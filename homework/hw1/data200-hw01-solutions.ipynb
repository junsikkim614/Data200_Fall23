{
 "cells": [
  {
   "cell_type": "markdown",
   "metadata": {},
   "source": [
    "# Data 200: Database Systems and Data Management for Data Analytics\n"
   ]
  },
  {
   "cell_type": "markdown",
   "metadata": {},
   "source": [
    "# Name:"
   ]
  },
  {
   "cell_type": "code",
   "execution_count": 1,
   "metadata": {},
   "outputs": [],
   "source": [
    "##############################\n",
    "# Grading Inititalization Cell\n",
    "pts_earned = 0\n",
    "num_pts = 0\n",
    "##############################"
   ]
  },
  {
   "cell_type": "code",
   "execution_count": 2,
   "metadata": {},
   "outputs": [],
   "source": [
    "import numpy as np"
   ]
  },
  {
   "cell_type": "markdown",
   "metadata": {},
   "source": [
    "# Tasks\n",
    "\n",
    "- Read pages 3-15 in the textbook\n",
    "- Complete the **numPy** chapter of the **Introduction to Python** course on DataCamp\n",
    "- Read pages 23-46 in the Course Notes\n",
    "- E-mail me your completed Jupyter notebook"
   ]
  },
  {
   "cell_type": "code",
   "execution_count": 3,
   "metadata": {},
   "outputs": [],
   "source": [
    "###############\n",
    "# Grading Cell\n",
    "pts_earned += 5\n",
    "num_pts += 5\n",
    "###############\n",
    "\n",
    "# Comments:\n",
    "#"
   ]
  },
  {
   "cell_type": "markdown",
   "metadata": {},
   "source": [
    "# Exercises"
   ]
  },
  {
   "cell_type": "markdown",
   "metadata": {},
   "source": [
    "Run the code cell below."
   ]
  },
  {
   "cell_type": "code",
   "execution_count": 4,
   "metadata": {},
   "outputs": [],
   "source": [
    "values = [23, 19, 34, 50]"
   ]
  },
  {
   "cell_type": "markdown",
   "metadata": {},
   "source": [
    "<div class=\"exercise\"><b>Exercise 1</b></div> \n",
    "\n",
    "Convert the Python list `values` to a NumPy array called `np_values` and then print the array."
   ]
  },
  {
   "cell_type": "code",
   "execution_count": 5,
   "metadata": {
    "scrolled": true
   },
   "outputs": [
    {
     "name": "stdout",
     "output_type": "stream",
     "text": [
      "[23 19 34 50]\n"
     ]
    }
   ],
   "source": [
    "np_list=np.array(values)\n",
    "print(np_list)"
   ]
  },
  {
   "cell_type": "code",
   "execution_count": 6,
   "metadata": {},
   "outputs": [],
   "source": [
    "###############\n",
    "# Grading Cell\n",
    "pts_earned += 2\n",
    "num_pts += 2\n",
    "###############\n",
    "\n",
    "# Comments:\n",
    "#"
   ]
  },
  {
   "cell_type": "markdown",
   "metadata": {},
   "source": [
    "<div class=\"exercise\"><b>Exercise 2</b></div> \n",
    "\n",
    "Using the `np.arange(.)` function: <br><br>\n",
    "a) Create an array `x` with integers ranging from 12 to 36.<br>\n",
    "b) Create an array `x2` with even integers ranging from 10 to 20.<br>\n",
    "c) Create an array `x3` with integers from 8 to -4 in a backwards fashion.<br>\n",
    "\n",
    "Be sure to print the arrays to obtain the following expected output:<br><br>`[12 13 14 15 16 17 18 19 20 21 22 23 24 25 26 27 28 29 30 31 32 33 34 35]`<br>`[10 12 14 16 18]\n",
    "`<br>`[ 8  7  6  5  4  3  2  1  0 -1 -2 -3]`"
   ]
  },
  {
   "cell_type": "code",
   "execution_count": 7,
   "metadata": {},
   "outputs": [
    {
     "name": "stdout",
     "output_type": "stream",
     "text": [
      "[12 13 14 15 16 17 18 19 20 21 22 23 24 25 26 27 28 29 30 31 32 33 34 35]\n",
      "[10 12 14 16 18]\n",
      "[ 8  7  6  5  4  3  2  1  0 -1 -2 -3]\n"
     ]
    }
   ],
   "source": [
    "x = np.arange(12, 36)\n",
    "x2 = np.arange(10,20,2)\n",
    "x3 = np.arange(8,-4,-1)\n",
    "print(x)\n",
    "print(x2)\n",
    "print(x3)"
   ]
  },
  {
   "cell_type": "code",
   "execution_count": 8,
   "metadata": {},
   "outputs": [],
   "source": [
    "###############\n",
    "# Grading Cell\n",
    "pts_earned += 6\n",
    "num_pts += 6\n",
    "###############\n",
    "\n",
    "# Comments:\n",
    "#"
   ]
  },
  {
   "cell_type": "markdown",
   "metadata": {},
   "source": [
    "Run the code cell below, which defines an array `mpg` of miles-per-gallon (mpg) of a fleet of vehicles."
   ]
  },
  {
   "cell_type": "code",
   "execution_count": 9,
   "metadata": {},
   "outputs": [],
   "source": [
    "mpg = np.array([19, 23, 20, 21, 20, 23, 21, 21, 23, 19, 24, 23, 28, 19, 18, 21, 23, 17, 20, 20, 20, 21, 24, 18, 15])"
   ]
  },
  {
   "cell_type": "markdown",
   "metadata": {},
   "source": [
    "<div class=\"exercise\"><b>Exercise 3</b></div> \n",
    "\n",
    "Develop Python code to accomplish the following (you may want to review Boolean Indexing):<br><br>\n",
    "a) Print the elements in `mpg` from index 3 to 10<br>\n",
    "b) Print the elements in `mpg` from index 15 forward<br>\n",
    "c) Create and print an array `goodMpg` that contains all the elements in `mpg` that are >= 23<br>\n",
    "d) Create and print an array `okMpg` that contains all the elements in `mpg` that are strictly between 18 and 23<br>\n",
    "e) Using *vectorization*, convert the `mpg` values to kilometers-per-liter (kpl) and assign it to the array `kpl`--be sure to print the new array. Note: 1 mpg = 0.425 kpl.<br>\n",
    "\n",
    "The expected output for this exercise is as follows:<br>\n",
    "    \n",
    "<code>[21 20 23 21 21 23 19]\n",
    "[21 23 17 20 20 20 21 24 18 15]\n",
    "[23 23 23 24 23 28 23 24]\n",
    "[19 20 21 20 21 21 19 19 21 20 20 20 21]\n",
    "[  8.075   9.775   8.5     8.925   8.5     9.775   8.925   8.925   9.775\n",
    "   8.075  10.2     9.775  11.9     8.075   7.65    8.925   9.775   7.225\n",
    "   8.5     8.5     8.5     8.925  10.2     7.65    6.375]</code>"
   ]
  },
  {
   "cell_type": "code",
   "execution_count": 10,
   "metadata": {},
   "outputs": [
    {
     "name": "stdout",
     "output_type": "stream",
     "text": [
      "[21 20 23 21 21 23 19]\n",
      "[21 23 17 20 20 20 21 24 18 15]\n",
      "[23 23 23 24 23 28 23 24]\n",
      "[19 20 21 20 21 21 19 19 21 20 20 20 21]\n",
      "[ 8.075  9.775  8.5    8.925  8.5    9.775  8.925  8.925  9.775  8.075\n",
      " 10.2    9.775 11.9    8.075  7.65   8.925  9.775  7.225  8.5    8.5\n",
      "  8.5    8.925 10.2    7.65   6.375]\n"
     ]
    }
   ],
   "source": [
    "print(mpg[3:10])\n",
    "print(mpg[15:])\n",
    "goodMpg = mpg[mpg >= 23]\n",
    "print(goodMpg)\n",
    "okMpg = mpg[(mpg > 18) & (mpg < 23)]\n",
    "print(okMpg)\n",
    "kpl = mpg*0.425\n",
    "print(kpl)"
   ]
  },
  {
   "cell_type": "code",
   "execution_count": 11,
   "metadata": {},
   "outputs": [],
   "source": [
    "###############\n",
    "# Grading Cell\n",
    "pts_earned += 10\n",
    "num_pts += 10\n",
    "###############\n",
    "\n",
    "# Comments:\n",
    "#"
   ]
  },
  {
   "cell_type": "markdown",
   "metadata": {},
   "source": [
    "<div class=\"exercise\"><b>Exercise 4</b></div> \n",
    "Develop Python code to do the following:<br>\n",
    "\n",
    "a) Create and print a 3x3 matrix A (2D NumPy array) with values ranging from 2 to 10 (using `arange(.)` and `reshape(.)`). <br>\n",
    "b) Negate all the numbers of A that are strictly between 3 and 7 and then print the updated matrix.<br>\n",
    "\n",
    "The expected output for this exercise is as follows:<br>\n",
    "        \n",
    "<code>[[ 2  3  4]\n",
    " [ 5  6  7]\n",
    " [ 8  9 10]]</code>\n",
    "\n",
    "<code>\n",
    "[[ 2  3 -4]\n",
    " [-5 -6  7]\n",
    " [ 8  9 10]]</code>\n"
   ]
  },
  {
   "cell_type": "code",
   "execution_count": 12,
   "metadata": {},
   "outputs": [
    {
     "name": "stdout",
     "output_type": "stream",
     "text": [
      "[[ 2  3  4]\n",
      " [ 5  6  7]\n",
      " [ 8  9 10]]\n",
      "\n",
      "[[ 2  3 -4]\n",
      " [-5 -6  7]\n",
      " [ 8  9 10]]\n"
     ]
    }
   ],
   "source": [
    "A = np.arange(2, 11).reshape(3,3)\n",
    "print(A)\n",
    "print()\n",
    "A[(A>3) & (A<7)] *= -1\n",
    "print(A)"
   ]
  },
  {
   "cell_type": "code",
   "execution_count": 13,
   "metadata": {},
   "outputs": [],
   "source": [
    "###############\n",
    "# Grading Cell\n",
    "pts_earned += 4\n",
    "num_pts += 4\n",
    "###############\n",
    "\n",
    "# Comments:\n",
    "#"
   ]
  },
  {
   "cell_type": "markdown",
   "metadata": {},
   "source": [
    "<div class=\"exercise\"><b>Exercise 5</b></div> Develop Python code to do the following:<br><br>\n",
    "a) Print the first row of A (from the previous exercise--the updated matrix from part (b)<br>\n",
    "b) Print the third column of A (from the previous exercise)--make sure the output is a 3x1 column!<br>\n",
    "c) Print the sum of the values of the second column of A<br>\n",
    "d) Print the average of all the values of A<br>\n",
    "e) Print the median of the values of the first column of A<br>\n",
    "\n",
    "The expected output for this exercise is as follows:<br>\n",
    "        \n",
    "<code>[ 2  3 -4]</code>\n",
    "\n",
    "<code>\n",
    "[[-4]\n",
    " [ 7]\n",
    " [10]]</code>\n",
    "\n",
    "`6`\n",
    "\n",
    "`2.66666666667`\n",
    "\n",
    "`2.0`"
   ]
  },
  {
   "cell_type": "code",
   "execution_count": 14,
   "metadata": {
    "scrolled": true
   },
   "outputs": [
    {
     "name": "stdout",
     "output_type": "stream",
     "text": [
      "[ 2  3 -4]\n",
      "\n",
      "[[-4]\n",
      " [ 7]\n",
      " [10]]\n",
      "\n",
      "6\n",
      "\n",
      "2.6666666666666665\n",
      "\n",
      "2.0\n"
     ]
    }
   ],
   "source": [
    "print(A[0,:])\n",
    "print()\n",
    "print(A[:,2].reshape(3,1))\n",
    "print()\n",
    "print(A[:,1].sum())\n",
    "print()\n",
    "print(np.average(A))\n",
    "print()\n",
    "print(np.median(A[:,0]))"
   ]
  },
  {
   "cell_type": "code",
   "execution_count": 15,
   "metadata": {},
   "outputs": [],
   "source": [
    "###############\n",
    "# Grading Cell\n",
    "pts_earned += 10\n",
    "num_pts += 10\n",
    "###############\n",
    "\n",
    "# Comments:\n",
    "#"
   ]
  },
  {
   "cell_type": "markdown",
   "metadata": {},
   "source": [
    "<div class=\"exercise\"><b>Exercise 6</b></div>Use *broadcasting* to add the row [-2 1 2] to each of the rows of A<br>\n",
    "\n",
    "The expected output for this exercise is as follows:<br>\n",
    "        \n",
    "<code>[[ 0  4 -2]\n",
    " [-7 -5  9]\n",
    " [ 6 10 12]]</code>"
   ]
  },
  {
   "cell_type": "code",
   "execution_count": 16,
   "metadata": {},
   "outputs": [
    {
     "name": "stdout",
     "output_type": "stream",
     "text": [
      "[[ 0  4 -2]\n",
      " [-7 -5  9]\n",
      " [ 6 10 12]]\n"
     ]
    }
   ],
   "source": [
    "A += np.array([-2, 1, 2])\n",
    "print(A)"
   ]
  },
  {
   "cell_type": "code",
   "execution_count": 17,
   "metadata": {},
   "outputs": [],
   "source": [
    "###############\n",
    "# Grading Cell\n",
    "pts_earned += 2\n",
    "num_pts += 2\n",
    "###############\n",
    "\n",
    "# Comments:\n",
    "#"
   ]
  },
  {
   "cell_type": "markdown",
   "metadata": {},
   "source": [
    "<div class=\"exercise\"><b>Exercise 7</b></div>Create and print a 4x3x2 (3-dimensional) array B consisting of the numbers 0 through 23\n",
    "\n",
    "The expected output for this exercise is as follows::<br>\n",
    "        \n",
    "<code>[[[ 0  1]\n",
    "  [ 2  3]\n",
    "  [ 4  5]]</code>\n",
    "\n",
    " <code>[[ 6  7]\n",
    "  [ 8  9]\n",
    "  [10 11]]</code>\n",
    "\n",
    " <code>[[12 13]\n",
    "  [14 15]\n",
    "  [16 17]]</code>\n",
    "\n",
    " <code>[[18 19]\n",
    "  [20 21]\n",
    "  [22 23]]]</code>"
   ]
  },
  {
   "cell_type": "code",
   "execution_count": 18,
   "metadata": {},
   "outputs": [
    {
     "name": "stdout",
     "output_type": "stream",
     "text": [
      "[[[ 0  1]\n",
      "  [ 2  3]\n",
      "  [ 4  5]]\n",
      "\n",
      " [[ 6  7]\n",
      "  [ 8  9]\n",
      "  [10 11]]\n",
      "\n",
      " [[12 13]\n",
      "  [14 15]\n",
      "  [16 17]]\n",
      "\n",
      " [[18 19]\n",
      "  [20 21]\n",
      "  [22 23]]]\n"
     ]
    }
   ],
   "source": [
    "B = np.arange(24).reshape(4,3,2)\n",
    "print(B)"
   ]
  },
  {
   "cell_type": "code",
   "execution_count": 19,
   "metadata": {},
   "outputs": [],
   "source": [
    "###############\n",
    "# Grading Cell\n",
    "pts_earned += 2\n",
    "num_pts += 2\n",
    "###############\n",
    "\n",
    "# Comments:\n",
    "#"
   ]
  },
  {
   "cell_type": "code",
   "execution_count": 20,
   "metadata": {},
   "outputs": [
    {
     "name": "stdout",
     "output_type": "stream",
     "text": [
      "***********************************\n",
      "Possible Points: 41\n",
      "Points Earned: 41\n",
      "Percent: 100.0\n",
      "***********************************\n"
     ]
    }
   ],
   "source": [
    "print(\"***********************************\")\n",
    "print(\"Possible Points: \" + str(num_pts))\n",
    "print(\"Points Earned: \" + str(pts_earned))\n",
    "print(\"Percent: \" + str(pts_earned/num_pts*100))\n",
    "print(\"***********************************\")"
   ]
  }
 ],
 "metadata": {
  "celltoolbar": "Raw Cell Format",
  "kernelspec": {
   "display_name": "Python 3 (ipykernel)",
   "language": "python",
   "name": "python3"
  },
  "language_info": {
   "codemirror_mode": {
    "name": "ipython",
    "version": 3
   },
   "file_extension": ".py",
   "mimetype": "text/x-python",
   "name": "python",
   "nbconvert_exporter": "python",
   "pygments_lexer": "ipython3",
   "version": "3.9.13"
  }
 },
 "nbformat": 4,
 "nbformat_minor": 2
}
