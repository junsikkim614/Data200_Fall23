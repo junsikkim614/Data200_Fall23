{
 "cells": [
  {
   "cell_type": "markdown",
   "id": "136cb9ce",
   "metadata": {},
   "source": [
    "# Here is my explanation.\n",
    "## Sub-title\n",
    "More explanation.\n",
    "\n",
    "**Add more <br> text**\n",
    "\n",
    "Here is my list.\n",
    "- item1\n",
    "- item2\n",
    "- item3\n",
    "\n",
    "Here is my list.\n",
    "* item1\n",
    "* item2\n",
    "* item3\n",
    "\n",
    "Here is a numbered list.\n",
    "1. item1\n",
    "1. item2\n",
    "1. item3\n",
    "\n",
    "What is the square root of 9?\n",
    "\n",
    "What is $\\sqrt{9}$"
   ]
  },
  {
   "cell_type": "code",
   "execution_count": 1,
   "id": "ea30e056",
   "metadata": {},
   "outputs": [
    {
     "name": "stdout",
     "output_type": "stream",
     "text": [
      "Hello World!\n"
     ]
    }
   ],
   "source": [
    "print('Hello World!')"
   ]
  },
  {
   "cell_type": "code",
   "execution_count": null,
   "id": "2a66cbb9",
   "metadata": {},
   "outputs": [],
   "source": []
  }
 ],
 "metadata": {
  "kernelspec": {
   "display_name": "Python 3 (ipykernel)",
   "language": "python",
   "name": "python3"
  },
  "language_info": {
   "codemirror_mode": {
    "name": "ipython",
    "version": 3
   },
   "file_extension": ".py",
   "mimetype": "text/x-python",
   "name": "python",
   "nbconvert_exporter": "python",
   "pygments_lexer": "ipython3",
   "version": "3.11.4"
  }
 },
 "nbformat": 4,
 "nbformat_minor": 5
}
